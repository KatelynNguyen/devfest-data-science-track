{
 "cells": [
  {
   "cell_type": "markdown",
   "metadata": {},
   "source": [
    "# Level 2: Exploring Data"
   ]
  },
  {
   "cell_type": "markdown",
   "metadata": {},
   "source": [
    "Before continuing on with level 2, make sure you've generated the `weather_data.csv` file we generated from level 1. This contains weather data from 2013 to 2015, and we'll be exploring that data within this level.\n",
    "\n",
    "We'll now continue our data project by exploring the treasure trove of data we collected in level 1. This is also an overlooked but important part of data science; it helps us catch errors that may not have come up in the process of obtaining the data. Additionally, it gives us some intuition for the data, which is helpful when it comes to modeling.\n",
    "\n",
    "`Pandas` is the workhorse of Python data analysis. Let's use it to slurp up our data in one shot:"
   ]
  },
  {
   "cell_type": "code",
   "execution_count": 1,
   "metadata": {
    "collapsed": false
   },
   "outputs": [],
   "source": [
    "import pandas as pd\n",
    "\n",
    "data = pd.read_csv('weather_data.csv')"
   ]
  },
  {
   "cell_type": "markdown",
   "metadata": {},
   "source": [
    "The basic object that Pandas uses is called a \"data frame\". You can think of it essentially as a spreadsheet or a two-dimensional array. Each row of the spreadsheet is another data point, while each column is a variable."
   ]
  },
  {
   "cell_type": "code",
   "execution_count": 2,
   "metadata": {
    "collapsed": false
   },
   "outputs": [
    {
     "data": {
      "text/html": [
       "<div>\n",
       "<table border=\"1\" class=\"dataframe\">\n",
       "  <thead>\n",
       "    <tr style=\"text-align: right;\">\n",
       "      <th></th>\n",
       "      <th>Month</th>\n",
       "      <th>Day</th>\n",
       "      <th>Year</th>\n",
       "      <th>Mean Temperature</th>\n",
       "      <th>Max Temperature</th>\n",
       "      <th>Min Temperature</th>\n",
       "      <th>Dew Point</th>\n",
       "      <th>Average Humidity</th>\n",
       "      <th>Maximum Humidity</th>\n",
       "      <th>Minimum Humidity</th>\n",
       "      <th>Precipitation</th>\n",
       "      <th>Wind Speed</th>\n",
       "      <th>Max Wind Speed</th>\n",
       "      <th>Max Gust Speed</th>\n",
       "    </tr>\n",
       "  </thead>\n",
       "  <tbody>\n",
       "    <tr>\n",
       "      <th>0</th>\n",
       "      <td>1</td>\n",
       "      <td>1</td>\n",
       "      <td>2013</td>\n",
       "      <td>33</td>\n",
       "      <td>40</td>\n",
       "      <td>26</td>\n",
       "      <td>22</td>\n",
       "      <td>54</td>\n",
       "      <td>64</td>\n",
       "      <td>44</td>\n",
       "      <td>0.00</td>\n",
       "      <td>7</td>\n",
       "      <td>15</td>\n",
       "      <td>26</td>\n",
       "    </tr>\n",
       "    <tr>\n",
       "      <th>1</th>\n",
       "      <td>1</td>\n",
       "      <td>2</td>\n",
       "      <td>2013</td>\n",
       "      <td>28</td>\n",
       "      <td>33</td>\n",
       "      <td>22</td>\n",
       "      <td>11</td>\n",
       "      <td>48</td>\n",
       "      <td>57</td>\n",
       "      <td>39</td>\n",
       "      <td>0.00</td>\n",
       "      <td>6</td>\n",
       "      <td>15</td>\n",
       "      <td>22</td>\n",
       "    </tr>\n",
       "    <tr>\n",
       "      <th>2</th>\n",
       "      <td>1</td>\n",
       "      <td>3</td>\n",
       "      <td>2013</td>\n",
       "      <td>28</td>\n",
       "      <td>32</td>\n",
       "      <td>24</td>\n",
       "      <td>14</td>\n",
       "      <td>56</td>\n",
       "      <td>68</td>\n",
       "      <td>43</td>\n",
       "      <td>0.00</td>\n",
       "      <td>5</td>\n",
       "      <td>13</td>\n",
       "      <td>20</td>\n",
       "    </tr>\n",
       "    <tr>\n",
       "      <th>...</th>\n",
       "      <td>...</td>\n",
       "      <td>...</td>\n",
       "      <td>...</td>\n",
       "      <td>...</td>\n",
       "      <td>...</td>\n",
       "      <td>...</td>\n",
       "      <td>...</td>\n",
       "      <td>...</td>\n",
       "      <td>...</td>\n",
       "      <td>...</td>\n",
       "      <td>...</td>\n",
       "      <td>...</td>\n",
       "      <td>...</td>\n",
       "      <td>...</td>\n",
       "    </tr>\n",
       "    <tr>\n",
       "      <th>1092</th>\n",
       "      <td>12</td>\n",
       "      <td>29</td>\n",
       "      <td>2015</td>\n",
       "      <td>40</td>\n",
       "      <td>46</td>\n",
       "      <td>34</td>\n",
       "      <td>37</td>\n",
       "      <td>87</td>\n",
       "      <td>92</td>\n",
       "      <td>82</td>\n",
       "      <td>0.45</td>\n",
       "      <td>7</td>\n",
       "      <td>18</td>\n",
       "      <td>24</td>\n",
       "    </tr>\n",
       "    <tr>\n",
       "      <th>1093</th>\n",
       "      <td>12</td>\n",
       "      <td>30</td>\n",
       "      <td>2015</td>\n",
       "      <td>43</td>\n",
       "      <td>48</td>\n",
       "      <td>38</td>\n",
       "      <td>39</td>\n",
       "      <td>81</td>\n",
       "      <td>86</td>\n",
       "      <td>76</td>\n",
       "      <td>0.19</td>\n",
       "      <td>4</td>\n",
       "      <td>9</td>\n",
       "      <td>13</td>\n",
       "    </tr>\n",
       "    <tr>\n",
       "      <th>1094</th>\n",
       "      <td>12</td>\n",
       "      <td>31</td>\n",
       "      <td>2015</td>\n",
       "      <td>45</td>\n",
       "      <td>48</td>\n",
       "      <td>42</td>\n",
       "      <td>37</td>\n",
       "      <td>71</td>\n",
       "      <td>92</td>\n",
       "      <td>49</td>\n",
       "      <td>0.03</td>\n",
       "      <td>5</td>\n",
       "      <td>14</td>\n",
       "      <td>20</td>\n",
       "    </tr>\n",
       "  </tbody>\n",
       "</table>\n",
       "<p>1095 rows × 14 columns</p>\n",
       "</div>"
      ],
      "text/plain": [
       "      Month  Day  Year  Mean Temperature  Max Temperature  Min Temperature  \\\n",
       "0         1    1  2013                33               40               26   \n",
       "1         1    2  2013                28               33               22   \n",
       "2         1    3  2013                28               32               24   \n",
       "...     ...  ...   ...               ...              ...              ...   \n",
       "1092     12   29  2015                40               46               34   \n",
       "1093     12   30  2015                43               48               38   \n",
       "1094     12   31  2015                45               48               42   \n",
       "\n",
       "      Dew Point  Average Humidity  Maximum Humidity  Minimum Humidity  \\\n",
       "0            22                54                64                44   \n",
       "1            11                48                57                39   \n",
       "2            14                56                68                43   \n",
       "...         ...               ...               ...               ...   \n",
       "1092         37                87                92                82   \n",
       "1093         39                81                86                76   \n",
       "1094         37                71                92                49   \n",
       "\n",
       "     Precipitation Wind Speed Max Wind Speed Max Gust Speed  \n",
       "0             0.00          7             15             26  \n",
       "1             0.00          6             15             22  \n",
       "2             0.00          5             13             20  \n",
       "...            ...        ...            ...            ...  \n",
       "1092          0.45          7             18             24  \n",
       "1093          0.19          4              9             13  \n",
       "1094          0.03          5             14             20  \n",
       "\n",
       "[1095 rows x 14 columns]"
      ]
     },
     "execution_count": 2,
     "metadata": {},
     "output_type": "execute_result"
    }
   ],
   "source": [
    "pd.options.display.max_rows = 7\n",
    "data"
   ]
  },
  {
   "cell_type": "markdown",
   "metadata": {},
   "source": [
    "Before going on, let's rename the columns to be lowercase and remove spaces. This is a standard practice to help remember the format of the column names (no more guessing whether it's \"dew point\" or \"Dew point\" or \"Dew Point\")."
   ]
  },
  {
   "cell_type": "code",
   "execution_count": 3,
   "metadata": {
    "collapsed": false
   },
   "outputs": [
    {
     "data": {
      "text/html": [
       "<div>\n",
       "<table border=\"1\" class=\"dataframe\">\n",
       "  <thead>\n",
       "    <tr style=\"text-align: right;\">\n",
       "      <th></th>\n",
       "      <th>month</th>\n",
       "      <th>day</th>\n",
       "      <th>year</th>\n",
       "      <th>mean_temperature</th>\n",
       "      <th>max_temperature</th>\n",
       "      <th>min_temperature</th>\n",
       "      <th>dew_point</th>\n",
       "      <th>average_humidity</th>\n",
       "      <th>maximum_humidity</th>\n",
       "      <th>minimum_humidity</th>\n",
       "      <th>precipitation</th>\n",
       "      <th>wind_speed</th>\n",
       "      <th>max_wind_speed</th>\n",
       "      <th>max_gust_speed</th>\n",
       "    </tr>\n",
       "  </thead>\n",
       "  <tbody>\n",
       "    <tr>\n",
       "      <th>0</th>\n",
       "      <td>1</td>\n",
       "      <td>1</td>\n",
       "      <td>2013</td>\n",
       "      <td>33</td>\n",
       "      <td>40</td>\n",
       "      <td>26</td>\n",
       "      <td>22</td>\n",
       "      <td>54</td>\n",
       "      <td>64</td>\n",
       "      <td>44</td>\n",
       "      <td>0.00</td>\n",
       "      <td>7</td>\n",
       "      <td>15</td>\n",
       "      <td>26</td>\n",
       "    </tr>\n",
       "    <tr>\n",
       "      <th>1</th>\n",
       "      <td>1</td>\n",
       "      <td>2</td>\n",
       "      <td>2013</td>\n",
       "      <td>28</td>\n",
       "      <td>33</td>\n",
       "      <td>22</td>\n",
       "      <td>11</td>\n",
       "      <td>48</td>\n",
       "      <td>57</td>\n",
       "      <td>39</td>\n",
       "      <td>0.00</td>\n",
       "      <td>6</td>\n",
       "      <td>15</td>\n",
       "      <td>22</td>\n",
       "    </tr>\n",
       "    <tr>\n",
       "      <th>2</th>\n",
       "      <td>1</td>\n",
       "      <td>3</td>\n",
       "      <td>2013</td>\n",
       "      <td>28</td>\n",
       "      <td>32</td>\n",
       "      <td>24</td>\n",
       "      <td>14</td>\n",
       "      <td>56</td>\n",
       "      <td>68</td>\n",
       "      <td>43</td>\n",
       "      <td>0.00</td>\n",
       "      <td>5</td>\n",
       "      <td>13</td>\n",
       "      <td>20</td>\n",
       "    </tr>\n",
       "    <tr>\n",
       "      <th>...</th>\n",
       "      <td>...</td>\n",
       "      <td>...</td>\n",
       "      <td>...</td>\n",
       "      <td>...</td>\n",
       "      <td>...</td>\n",
       "      <td>...</td>\n",
       "      <td>...</td>\n",
       "      <td>...</td>\n",
       "      <td>...</td>\n",
       "      <td>...</td>\n",
       "      <td>...</td>\n",
       "      <td>...</td>\n",
       "      <td>...</td>\n",
       "      <td>...</td>\n",
       "    </tr>\n",
       "    <tr>\n",
       "      <th>1092</th>\n",
       "      <td>12</td>\n",
       "      <td>29</td>\n",
       "      <td>2015</td>\n",
       "      <td>40</td>\n",
       "      <td>46</td>\n",
       "      <td>34</td>\n",
       "      <td>37</td>\n",
       "      <td>87</td>\n",
       "      <td>92</td>\n",
       "      <td>82</td>\n",
       "      <td>0.45</td>\n",
       "      <td>7</td>\n",
       "      <td>18</td>\n",
       "      <td>24</td>\n",
       "    </tr>\n",
       "    <tr>\n",
       "      <th>1093</th>\n",
       "      <td>12</td>\n",
       "      <td>30</td>\n",
       "      <td>2015</td>\n",
       "      <td>43</td>\n",
       "      <td>48</td>\n",
       "      <td>38</td>\n",
       "      <td>39</td>\n",
       "      <td>81</td>\n",
       "      <td>86</td>\n",
       "      <td>76</td>\n",
       "      <td>0.19</td>\n",
       "      <td>4</td>\n",
       "      <td>9</td>\n",
       "      <td>13</td>\n",
       "    </tr>\n",
       "    <tr>\n",
       "      <th>1094</th>\n",
       "      <td>12</td>\n",
       "      <td>31</td>\n",
       "      <td>2015</td>\n",
       "      <td>45</td>\n",
       "      <td>48</td>\n",
       "      <td>42</td>\n",
       "      <td>37</td>\n",
       "      <td>71</td>\n",
       "      <td>92</td>\n",
       "      <td>49</td>\n",
       "      <td>0.03</td>\n",
       "      <td>5</td>\n",
       "      <td>14</td>\n",
       "      <td>20</td>\n",
       "    </tr>\n",
       "  </tbody>\n",
       "</table>\n",
       "<p>1095 rows × 14 columns</p>\n",
       "</div>"
      ],
      "text/plain": [
       "      month  day  year  mean_temperature  max_temperature  min_temperature  \\\n",
       "0         1    1  2013                33               40               26   \n",
       "1         1    2  2013                28               33               22   \n",
       "2         1    3  2013                28               32               24   \n",
       "...     ...  ...   ...               ...              ...              ...   \n",
       "1092     12   29  2015                40               46               34   \n",
       "1093     12   30  2015                43               48               38   \n",
       "1094     12   31  2015                45               48               42   \n",
       "\n",
       "      dew_point  average_humidity  maximum_humidity  minimum_humidity  \\\n",
       "0            22                54                64                44   \n",
       "1            11                48                57                39   \n",
       "2            14                56                68                43   \n",
       "...         ...               ...               ...               ...   \n",
       "1092         37                87                92                82   \n",
       "1093         39                81                86                76   \n",
       "1094         37                71                92                49   \n",
       "\n",
       "     precipitation wind_speed max_wind_speed max_gust_speed  \n",
       "0             0.00          7             15             26  \n",
       "1             0.00          6             15             22  \n",
       "2             0.00          5             13             20  \n",
       "...            ...        ...            ...            ...  \n",
       "1092          0.45          7             18             24  \n",
       "1093          0.19          4              9             13  \n",
       "1094          0.03          5             14             20  \n",
       "\n",
       "[1095 rows x 14 columns]"
      ]
     },
     "execution_count": 3,
     "metadata": {},
     "output_type": "execute_result"
    }
   ],
   "source": [
    "data.columns = [name.lower().replace(\" \", \"_\")\n",
    "                for name in data.columns]\n",
    "data"
   ]
  },
  {
   "cell_type": "markdown",
   "metadata": {},
   "source": [
    "Data frames are kind of like dictionaries, where the keys are column names and the values is `Series` of data."
   ]
  },
  {
   "cell_type": "code",
   "execution_count": 4,
   "metadata": {
    "collapsed": false
   },
   "outputs": [
    {
     "data": {
      "text/plain": [
       "0       22\n",
       "1       11\n",
       "2       14\n",
       "        ..\n",
       "1092    37\n",
       "1093    39\n",
       "1094    37\n",
       "Name: dew_point, dtype: int64"
      ]
     },
     "execution_count": 4,
     "metadata": {},
     "output_type": "execute_result"
    }
   ],
   "source": [
    "data[\"dew_point\"]"
   ]
  },
  {
   "cell_type": "markdown",
   "metadata": {},
   "source": [
    "These series work just like numpy arrays, supporting all the standard arithmetic and reductions operators:"
   ]
  },
  {
   "cell_type": "code",
   "execution_count": 5,
   "metadata": {
    "collapsed": false
   },
   "outputs": [
    {
     "name": "stdout",
     "output_type": "stream",
     "text": [
      "40.2630136986\n"
     ]
    },
    {
     "data": {
      "text/plain": [
       "0       110\n",
       "1        55\n",
       "2        70\n",
       "       ... \n",
       "1092    185\n",
       "1093    195\n",
       "1094    185\n",
       "Name: dew_point, dtype: int64"
      ]
     },
     "execution_count": 5,
     "metadata": {},
     "output_type": "execute_result"
    }
   ],
   "source": [
    "print(data[\"dew_point\"].mean())\n",
    "data[\"dew_point\"] * 5"
   ]
  },
  {
   "cell_type": "markdown",
   "metadata": {},
   "source": [
    "**Unlike** a dictionary, though, the `len` of a data frame is not the number of \"keys\" (columns). To get that, you need to do:"
   ]
  },
  {
   "cell_type": "code",
   "execution_count": 6,
   "metadata": {
    "collapsed": false
   },
   "outputs": [
    {
     "name": "stdout",
     "output_type": "stream",
     "text": [
      "1095\n",
      "14\n"
     ]
    },
    {
     "data": {
      "text/plain": [
       "Index(['month', 'day', 'year', 'mean_temperature', 'max_temperature',\n",
       "       'min_temperature', 'dew_point', 'average_humidity', 'maximum_humidity',\n",
       "       'minimum_humidity', 'precipitation', 'wind_speed', 'max_wind_speed',\n",
       "       'max_gust_speed'],\n",
       "      dtype='object')"
      ]
     },
     "execution_count": 6,
     "metadata": {},
     "output_type": "execute_result"
    }
   ],
   "source": [
    "print(len(data))\n",
    "print(len(data.columns))\n",
    "data.columns"
   ]
  },
  {
   "cell_type": "markdown",
   "metadata": {},
   "source": [
    "You can also get both dimensions at once using `.shape`:"
   ]
  },
  {
   "cell_type": "code",
   "execution_count": 7,
   "metadata": {
    "collapsed": false
   },
   "outputs": [
    {
     "data": {
      "text/plain": [
       "(1095, 14)"
      ]
     },
     "execution_count": 7,
     "metadata": {},
     "output_type": "execute_result"
    }
   ],
   "source": [
    "data.shape"
   ]
  },
  {
   "cell_type": "markdown",
   "metadata": {},
   "source": [
    "You can also get rows of the data frame using the `.iloc` selector. There, the `.iloc` works like a list:"
   ]
  },
  {
   "cell_type": "code",
   "execution_count": 8,
   "metadata": {
    "collapsed": false
   },
   "outputs": [
    {
     "data": {
      "text/plain": [
       "month                1\n",
       "day                  1\n",
       "year              2013\n",
       "                  ... \n",
       "wind_speed           7\n",
       "max_wind_speed      15\n",
       "max_gust_speed      26\n",
       "Name: 0, dtype: object"
      ]
     },
     "execution_count": 8,
     "metadata": {},
     "output_type": "execute_result"
    }
   ],
   "source": [
    "data.iloc[0]"
   ]
  },
  {
   "cell_type": "code",
   "execution_count": 9,
   "metadata": {
    "collapsed": false
   },
   "outputs": [
    {
     "data": {
      "text/html": [
       "<div>\n",
       "<table border=\"1\" class=\"dataframe\">\n",
       "  <thead>\n",
       "    <tr style=\"text-align: right;\">\n",
       "      <th></th>\n",
       "      <th>month</th>\n",
       "      <th>day</th>\n",
       "      <th>year</th>\n",
       "      <th>mean_temperature</th>\n",
       "      <th>max_temperature</th>\n",
       "      <th>min_temperature</th>\n",
       "      <th>dew_point</th>\n",
       "      <th>average_humidity</th>\n",
       "      <th>maximum_humidity</th>\n",
       "      <th>minimum_humidity</th>\n",
       "      <th>precipitation</th>\n",
       "      <th>wind_speed</th>\n",
       "      <th>max_wind_speed</th>\n",
       "      <th>max_gust_speed</th>\n",
       "    </tr>\n",
       "  </thead>\n",
       "  <tbody>\n",
       "    <tr>\n",
       "      <th>0</th>\n",
       "      <td>1</td>\n",
       "      <td>1</td>\n",
       "      <td>2013</td>\n",
       "      <td>33</td>\n",
       "      <td>40</td>\n",
       "      <td>26</td>\n",
       "      <td>22</td>\n",
       "      <td>54</td>\n",
       "      <td>64</td>\n",
       "      <td>44</td>\n",
       "      <td>0.00</td>\n",
       "      <td>7</td>\n",
       "      <td>15</td>\n",
       "      <td>26</td>\n",
       "    </tr>\n",
       "    <tr>\n",
       "      <th>1</th>\n",
       "      <td>1</td>\n",
       "      <td>2</td>\n",
       "      <td>2013</td>\n",
       "      <td>28</td>\n",
       "      <td>33</td>\n",
       "      <td>22</td>\n",
       "      <td>11</td>\n",
       "      <td>48</td>\n",
       "      <td>57</td>\n",
       "      <td>39</td>\n",
       "      <td>0.00</td>\n",
       "      <td>6</td>\n",
       "      <td>15</td>\n",
       "      <td>22</td>\n",
       "    </tr>\n",
       "    <tr>\n",
       "      <th>2</th>\n",
       "      <td>1</td>\n",
       "      <td>3</td>\n",
       "      <td>2013</td>\n",
       "      <td>28</td>\n",
       "      <td>32</td>\n",
       "      <td>24</td>\n",
       "      <td>14</td>\n",
       "      <td>56</td>\n",
       "      <td>68</td>\n",
       "      <td>43</td>\n",
       "      <td>0.00</td>\n",
       "      <td>5</td>\n",
       "      <td>13</td>\n",
       "      <td>20</td>\n",
       "    </tr>\n",
       "    <tr>\n",
       "      <th>3</th>\n",
       "      <td>1</td>\n",
       "      <td>4</td>\n",
       "      <td>2013</td>\n",
       "      <td>34</td>\n",
       "      <td>37</td>\n",
       "      <td>30</td>\n",
       "      <td>19</td>\n",
       "      <td>56</td>\n",
       "      <td>63</td>\n",
       "      <td>48</td>\n",
       "      <td>0.00</td>\n",
       "      <td>8</td>\n",
       "      <td>18</td>\n",
       "      <td>28</td>\n",
       "    </tr>\n",
       "    <tr>\n",
       "      <th>4</th>\n",
       "      <td>1</td>\n",
       "      <td>5</td>\n",
       "      <td>2013</td>\n",
       "      <td>37</td>\n",
       "      <td>42</td>\n",
       "      <td>32</td>\n",
       "      <td>19</td>\n",
       "      <td>48</td>\n",
       "      <td>56</td>\n",
       "      <td>39</td>\n",
       "      <td>0.00</td>\n",
       "      <td>7</td>\n",
       "      <td>17</td>\n",
       "      <td>26</td>\n",
       "    </tr>\n",
       "  </tbody>\n",
       "</table>\n",
       "</div>"
      ],
      "text/plain": [
       "   month  day  year  mean_temperature  max_temperature  min_temperature  \\\n",
       "0      1    1  2013                33               40               26   \n",
       "1      1    2  2013                28               33               22   \n",
       "2      1    3  2013                28               32               24   \n",
       "3      1    4  2013                34               37               30   \n",
       "4      1    5  2013                37               42               32   \n",
       "\n",
       "   dew_point  average_humidity  maximum_humidity  minimum_humidity  \\\n",
       "0         22                54                64                44   \n",
       "1         11                48                57                39   \n",
       "2         14                56                68                43   \n",
       "3         19                56                63                48   \n",
       "4         19                48                56                39   \n",
       "\n",
       "  precipitation wind_speed max_wind_speed max_gust_speed  \n",
       "0          0.00          7             15             26  \n",
       "1          0.00          6             15             22  \n",
       "2          0.00          5             13             20  \n",
       "3          0.00          8             18             28  \n",
       "4          0.00          7             17             26  "
      ]
     },
     "execution_count": 9,
     "metadata": {},
     "output_type": "execute_result"
    }
   ],
   "source": [
    "data.iloc[:5]"
   ]
  },
  {
   "cell_type": "markdown",
   "metadata": {},
   "source": [
    "Great, we can now access whole regions of data using the appropriate syntax depending on whether we want rows or column. Let's now try programatically looking for subsets of the data. For example, say we only wanted the data that was recorded in the month of December."
   ]
  },
  {
   "cell_type": "code",
   "execution_count": 10,
   "metadata": {
    "collapsed": false
   },
   "outputs": [
    {
     "data": {
      "text/html": [
       "<div>\n",
       "<table border=\"1\" class=\"dataframe\">\n",
       "  <thead>\n",
       "    <tr style=\"text-align: right;\">\n",
       "      <th></th>\n",
       "      <th>month</th>\n",
       "      <th>day</th>\n",
       "      <th>year</th>\n",
       "      <th>mean_temperature</th>\n",
       "      <th>max_temperature</th>\n",
       "      <th>min_temperature</th>\n",
       "      <th>dew_point</th>\n",
       "      <th>average_humidity</th>\n",
       "      <th>maximum_humidity</th>\n",
       "      <th>minimum_humidity</th>\n",
       "      <th>precipitation</th>\n",
       "      <th>wind_speed</th>\n",
       "      <th>max_wind_speed</th>\n",
       "      <th>max_gust_speed</th>\n",
       "    </tr>\n",
       "  </thead>\n",
       "  <tbody>\n",
       "    <tr>\n",
       "      <th>334</th>\n",
       "      <td>12</td>\n",
       "      <td>1</td>\n",
       "      <td>2013</td>\n",
       "      <td>43</td>\n",
       "      <td>49</td>\n",
       "      <td>36</td>\n",
       "      <td>29</td>\n",
       "      <td>61</td>\n",
       "      <td>76</td>\n",
       "      <td>46</td>\n",
       "      <td>0.00</td>\n",
       "      <td>2</td>\n",
       "      <td>7</td>\n",
       "      <td>10</td>\n",
       "    </tr>\n",
       "    <tr>\n",
       "      <th>335</th>\n",
       "      <td>12</td>\n",
       "      <td>2</td>\n",
       "      <td>2013</td>\n",
       "      <td>45</td>\n",
       "      <td>49</td>\n",
       "      <td>41</td>\n",
       "      <td>34</td>\n",
       "      <td>68</td>\n",
       "      <td>82</td>\n",
       "      <td>53</td>\n",
       "      <td>0.00</td>\n",
       "      <td>3</td>\n",
       "      <td>8</td>\n",
       "      <td>11</td>\n",
       "    </tr>\n",
       "    <tr>\n",
       "      <th>336</th>\n",
       "      <td>12</td>\n",
       "      <td>3</td>\n",
       "      <td>2013</td>\n",
       "      <td>46</td>\n",
       "      <td>53</td>\n",
       "      <td>38</td>\n",
       "      <td>34</td>\n",
       "      <td>66</td>\n",
       "      <td>86</td>\n",
       "      <td>46</td>\n",
       "      <td>0.00</td>\n",
       "      <td>3</td>\n",
       "      <td>8</td>\n",
       "      <td>12</td>\n",
       "    </tr>\n",
       "    <tr>\n",
       "      <th>337</th>\n",
       "      <td>12</td>\n",
       "      <td>4</td>\n",
       "      <td>2013</td>\n",
       "      <td>47</td>\n",
       "      <td>52</td>\n",
       "      <td>41</td>\n",
       "      <td>36</td>\n",
       "      <td>64</td>\n",
       "      <td>73</td>\n",
       "      <td>54</td>\n",
       "      <td>0.00</td>\n",
       "      <td>3</td>\n",
       "      <td>8</td>\n",
       "      <td>12</td>\n",
       "    </tr>\n",
       "    <tr>\n",
       "      <th>338</th>\n",
       "      <td>12</td>\n",
       "      <td>5</td>\n",
       "      <td>2013</td>\n",
       "      <td>54</td>\n",
       "      <td>60</td>\n",
       "      <td>48</td>\n",
       "      <td>50</td>\n",
       "      <td>83</td>\n",
       "      <td>93</td>\n",
       "      <td>72</td>\n",
       "      <td>0.01</td>\n",
       "      <td>2</td>\n",
       "      <td>9</td>\n",
       "      <td>17</td>\n",
       "    </tr>\n",
       "  </tbody>\n",
       "</table>\n",
       "</div>"
      ],
      "text/plain": [
       "     month  day  year  mean_temperature  max_temperature  min_temperature  \\\n",
       "334     12    1  2013                43               49               36   \n",
       "335     12    2  2013                45               49               41   \n",
       "336     12    3  2013                46               53               38   \n",
       "337     12    4  2013                47               52               41   \n",
       "338     12    5  2013                54               60               48   \n",
       "\n",
       "     dew_point  average_humidity  maximum_humidity  minimum_humidity  \\\n",
       "334         29                61                76                46   \n",
       "335         34                68                82                53   \n",
       "336         34                66                86                46   \n",
       "337         36                64                73                54   \n",
       "338         50                83                93                72   \n",
       "\n",
       "    precipitation wind_speed max_wind_speed max_gust_speed  \n",
       "334          0.00          2              7             10  \n",
       "335          0.00          3              8             11  \n",
       "336          0.00          3              8             12  \n",
       "337          0.00          3              8             12  \n",
       "338          0.01          2              9             17  "
      ]
     },
     "execution_count": 10,
     "metadata": {},
     "output_type": "execute_result"
    }
   ],
   "source": [
    "december_data = data[data.month == 12]\n",
    "december_data[:5]"
   ]
  },
  {
   "cell_type": "markdown",
   "metadata": {},
   "source": [
    "We can chain these conditions to ensure that multiple conditions are met. Let's try extracting data from May 2015."
   ]
  },
  {
   "cell_type": "code",
   "execution_count": 11,
   "metadata": {
    "collapsed": false
   },
   "outputs": [
    {
     "data": {
      "text/html": [
       "<div>\n",
       "<table border=\"1\" class=\"dataframe\">\n",
       "  <thead>\n",
       "    <tr style=\"text-align: right;\">\n",
       "      <th></th>\n",
       "      <th>month</th>\n",
       "      <th>day</th>\n",
       "      <th>year</th>\n",
       "      <th>mean_temperature</th>\n",
       "      <th>max_temperature</th>\n",
       "      <th>min_temperature</th>\n",
       "      <th>dew_point</th>\n",
       "      <th>average_humidity</th>\n",
       "      <th>maximum_humidity</th>\n",
       "      <th>minimum_humidity</th>\n",
       "      <th>precipitation</th>\n",
       "      <th>wind_speed</th>\n",
       "      <th>max_wind_speed</th>\n",
       "      <th>max_gust_speed</th>\n",
       "    </tr>\n",
       "  </thead>\n",
       "  <tbody>\n",
       "    <tr>\n",
       "      <th>850</th>\n",
       "      <td>5</td>\n",
       "      <td>1</td>\n",
       "      <td>2015</td>\n",
       "      <td>56</td>\n",
       "      <td>63</td>\n",
       "      <td>49</td>\n",
       "      <td>39</td>\n",
       "      <td>59</td>\n",
       "      <td>71</td>\n",
       "      <td>46</td>\n",
       "      <td>0.00</td>\n",
       "      <td>5</td>\n",
       "      <td>14</td>\n",
       "      <td>18</td>\n",
       "    </tr>\n",
       "    <tr>\n",
       "      <th>851</th>\n",
       "      <td>5</td>\n",
       "      <td>2</td>\n",
       "      <td>2015</td>\n",
       "      <td>61</td>\n",
       "      <td>74</td>\n",
       "      <td>48</td>\n",
       "      <td>40</td>\n",
       "      <td>56</td>\n",
       "      <td>80</td>\n",
       "      <td>31</td>\n",
       "      <td>0.00</td>\n",
       "      <td>3</td>\n",
       "      <td>15</td>\n",
       "      <td>22</td>\n",
       "    </tr>\n",
       "    <tr>\n",
       "      <th>852</th>\n",
       "      <td>5</td>\n",
       "      <td>3</td>\n",
       "      <td>2015</td>\n",
       "      <td>66</td>\n",
       "      <td>80</td>\n",
       "      <td>51</td>\n",
       "      <td>38</td>\n",
       "      <td>41</td>\n",
       "      <td>59</td>\n",
       "      <td>22</td>\n",
       "      <td>0.00</td>\n",
       "      <td>3</td>\n",
       "      <td>10</td>\n",
       "      <td>18</td>\n",
       "    </tr>\n",
       "    <tr>\n",
       "      <th>853</th>\n",
       "      <td>5</td>\n",
       "      <td>4</td>\n",
       "      <td>2015</td>\n",
       "      <td>71</td>\n",
       "      <td>85</td>\n",
       "      <td>57</td>\n",
       "      <td>44</td>\n",
       "      <td>47</td>\n",
       "      <td>72</td>\n",
       "      <td>22</td>\n",
       "      <td>0.00</td>\n",
       "      <td>5</td>\n",
       "      <td>15</td>\n",
       "      <td>23</td>\n",
       "    </tr>\n",
       "    <tr>\n",
       "      <th>854</th>\n",
       "      <td>5</td>\n",
       "      <td>5</td>\n",
       "      <td>2015</td>\n",
       "      <td>76</td>\n",
       "      <td>85</td>\n",
       "      <td>66</td>\n",
       "      <td>50</td>\n",
       "      <td>44</td>\n",
       "      <td>53</td>\n",
       "      <td>34</td>\n",
       "      <td>0.00</td>\n",
       "      <td>4</td>\n",
       "      <td>13</td>\n",
       "      <td>21</td>\n",
       "    </tr>\n",
       "  </tbody>\n",
       "</table>\n",
       "</div>"
      ],
      "text/plain": [
       "     month  day  year  mean_temperature  max_temperature  min_temperature  \\\n",
       "850      5    1  2015                56               63               49   \n",
       "851      5    2  2015                61               74               48   \n",
       "852      5    3  2015                66               80               51   \n",
       "853      5    4  2015                71               85               57   \n",
       "854      5    5  2015                76               85               66   \n",
       "\n",
       "     dew_point  average_humidity  maximum_humidity  minimum_humidity  \\\n",
       "850         39                59                71                46   \n",
       "851         40                56                80                31   \n",
       "852         38                41                59                22   \n",
       "853         44                47                72                22   \n",
       "854         50                44                53                34   \n",
       "\n",
       "    precipitation wind_speed max_wind_speed max_gust_speed  \n",
       "850          0.00          5             14             18  \n",
       "851          0.00          3             15             22  \n",
       "852          0.00          3             10             18  \n",
       "853          0.00          5             15             23  \n",
       "854          0.00          4             13             21  "
      ]
     },
     "execution_count": 11,
     "metadata": {},
     "output_type": "execute_result"
    }
   ],
   "source": [
    "may_2015_data = data[(data.month == 5) & (data.year == 2015)]\n",
    "may_2015_data[:5]"
   ]
  },
  {
   "cell_type": "markdown",
   "metadata": {},
   "source": [
    "Now that we know how to explore the data, let's look at some techniques for summarizing the data in different columns. First up is the `dtypes` attribute."
   ]
  },
  {
   "cell_type": "code",
   "execution_count": 12,
   "metadata": {
    "collapsed": false
   },
   "outputs": [
    {
     "data": {
      "text/plain": [
       "month              int64\n",
       "day                int64\n",
       "year               int64\n",
       "                   ...  \n",
       "wind_speed        object\n",
       "max_wind_speed    object\n",
       "max_gust_speed    object\n",
       "dtype: object"
      ]
     },
     "execution_count": 12,
     "metadata": {},
     "output_type": "execute_result"
    }
   ],
   "source": [
    "data.dtypes"
   ]
  },
  {
   "cell_type": "markdown",
   "metadata": {},
   "source": [
    "This function seems simple because it just prints out the type of each column; however, it's useful if you spot something you don't expect. For example, we expect that `precipitation`, `wind_speed`, `max_wind_speed`, and `max_gust_speed` are all numeric types, but they are currently `object` types. Let's see if we can figure out what's going on. The `unique` function will show us all of the unique values of a particular column."
   ]
  },
  {
   "cell_type": "code",
   "execution_count": 13,
   "metadata": {
    "collapsed": false
   },
   "outputs": [
    {
     "data": {
      "text/plain": [
       "array(['0.00', 'T', '0.55', '0.02', '0.09', '0.12', '0.69', '0.07', '0.22',\n",
       "       '0.06', '0.04', '0.90', '1.15', '0.38', '0.49', '0.03', '0.15',\n",
       "       '0.26', '0.01', '0.14', '1.56', '0.19', '0.56', '0.79', '0.60',\n",
       "       '0.36', '0.17', '0.08', '0.63', '0.05', '3.02', '0.50', '1.09',\n",
       "       '1.81', '0.30', '0.52', '0.85', '0.87', '0.13', '4.16', '0.48',\n",
       "       '1.38', '1.26', '0.24', '0.84', '0.53', '0.23', '0.25', '0.31',\n",
       "       '0.65', '0.46', '0.43', '1.60', '0.72', '0.45', '0.51', '1.98',\n",
       "       '0.73', '1.20', '0.33', '0.29', '0.11', '0.10', '1.17', '1.43',\n",
       "       '1.78', '0.16', '0.35', '0.92', '0.21', '0.34', '0.71', '4.97',\n",
       "       '0.41', '0.37', '1.54', '0.91', '0.40', '1.28', '0.96', '0.39',\n",
       "       '1.30', '0.62', '0.32', '1.18', '1.11', '1.51', '0.61', '0.20',\n",
       "       '0.70', '1.24', '1.22', '2.54', '0.80', '2.10', '1.02', '0.67',\n",
       "       '0.76', '0.81', '0.27', '1.37', '1.46', '0.57', '0.64', '1.12',\n",
       "       '0.42', '1.95', '1.58', '1.08', '0.89', '1.40', '1.25', '1.21',\n",
       "       '1.55'], dtype=object)"
      ]
     },
     "execution_count": 13,
     "metadata": {},
     "output_type": "execute_result"
    }
   ],
   "source": [
    "data.precipitation.unique()"
   ]
  },
  {
   "cell_type": "markdown",
   "metadata": {},
   "source": [
    "It looks like we found the problem! While most of the values are things we'd expect for a numeric column, we also have an odd one out: `'T'`. We can automatically convert the whole data frame to be numeric types using the handy `convert_objects` function. "
   ]
  },
  {
   "cell_type": "code",
   "execution_count": 14,
   "metadata": {
    "collapsed": false
   },
   "outputs": [
    {
     "name": "stdout",
     "output_type": "stream",
     "text": [
      "month               int64\n",
      "day                 int64\n",
      "year                int64\n",
      "                   ...   \n",
      "wind_speed        float64\n",
      "max_wind_speed    float64\n",
      "max_gust_speed    float64\n",
      "dtype: object\n"
     ]
    },
    {
     "data": {
      "text/plain": [
       "array([ 0.  ,   nan,  0.55,  0.02,  0.09,  0.12,  0.69,  0.07,  0.22,\n",
       "        0.06,  0.04,  0.9 ,  1.15,  0.38,  0.49,  0.03,  0.15,  0.26,\n",
       "        0.01,  0.14,  1.56,  0.19,  0.56,  0.79,  0.6 ,  0.36,  0.17,\n",
       "        0.08,  0.63,  0.05,  3.02,  0.5 ,  1.09,  1.81,  0.3 ,  0.52,\n",
       "        0.85,  0.87,  0.13,  4.16,  0.48,  1.38,  1.26,  0.24,  0.84,\n",
       "        0.53,  0.23,  0.25,  0.31,  0.65,  0.46,  0.43,  1.6 ,  0.72,\n",
       "        0.45,  0.51,  1.98,  0.73,  1.2 ,  0.33,  0.29,  0.11,  0.1 ,\n",
       "        1.17,  1.43,  1.78,  0.16,  0.35,  0.92,  0.21,  0.34,  0.71,\n",
       "        4.97,  0.41,  0.37,  1.54,  0.91,  0.4 ,  1.28,  0.96,  0.39,\n",
       "        1.3 ,  0.62,  0.32,  1.18,  1.11,  1.51,  0.61,  0.2 ,  0.7 ,\n",
       "        1.24,  1.22,  2.54,  0.8 ,  2.1 ,  1.02,  0.67,  0.76,  0.81,\n",
       "        0.27,  1.37,  1.46,  0.57,  0.64,  1.12,  0.42,  1.95,  1.58,\n",
       "        1.08,  0.89,  1.4 ,  1.25,  1.21,  1.55])"
      ]
     },
     "execution_count": 14,
     "metadata": {},
     "output_type": "execute_result"
    }
   ],
   "source": [
    "clean_data = data.convert_objects(convert_numeric=True)\n",
    "print(clean_data.dtypes)\n",
    "clean_data.precipitation.unique()"
   ]
  },
  {
   "cell_type": "markdown",
   "metadata": {},
   "source": [
    "Great, it looks like the conversion did what we expected to for the data types, but it introduced this weird value of `nan`. We can drop the rows containing NAs out of the data frame using the `dropna` function."
   ]
  },
  {
   "cell_type": "code",
   "execution_count": 15,
   "metadata": {
    "collapsed": false
   },
   "outputs": [],
   "source": [
    "clean_data = clean_data.dropna()"
   ]
  },
  {
   "cell_type": "markdown",
   "metadata": {},
   "source": [
    "Awesome, now that we have cleaned up our data, let's try using the `describe` function to get a better idea of what's going on in the data."
   ]
  },
  {
   "cell_type": "code",
   "execution_count": 16,
   "metadata": {
    "collapsed": false
   },
   "outputs": [
    {
     "data": {
      "text/html": [
       "<div>\n",
       "<table border=\"1\" class=\"dataframe\">\n",
       "  <thead>\n",
       "    <tr style=\"text-align: right;\">\n",
       "      <th></th>\n",
       "      <th>count</th>\n",
       "      <th>mean</th>\n",
       "      <th>std</th>\n",
       "      <th>min</th>\n",
       "      <th>25%</th>\n",
       "      <th>50%</th>\n",
       "      <th>75%</th>\n",
       "      <th>max</th>\n",
       "    </tr>\n",
       "  </thead>\n",
       "  <tbody>\n",
       "    <tr>\n",
       "      <th>month</th>\n",
       "      <td>1008</td>\n",
       "      <td>6.583333</td>\n",
       "      <td>3.420686</td>\n",
       "      <td>1</td>\n",
       "      <td>4</td>\n",
       "      <td>7</td>\n",
       "      <td>10.00</td>\n",
       "      <td>12.00</td>\n",
       "    </tr>\n",
       "    <tr>\n",
       "      <th>day</th>\n",
       "      <td>1008</td>\n",
       "      <td>15.585317</td>\n",
       "      <td>8.798791</td>\n",
       "      <td>1</td>\n",
       "      <td>8</td>\n",
       "      <td>15</td>\n",
       "      <td>23.00</td>\n",
       "      <td>31.00</td>\n",
       "    </tr>\n",
       "    <tr>\n",
       "      <th>year</th>\n",
       "      <td>1008</td>\n",
       "      <td>2014.009921</td>\n",
       "      <td>0.818056</td>\n",
       "      <td>2013</td>\n",
       "      <td>2013</td>\n",
       "      <td>2014</td>\n",
       "      <td>2015.00</td>\n",
       "      <td>2015.00</td>\n",
       "    </tr>\n",
       "    <tr>\n",
       "      <th>mean_temperature</th>\n",
       "      <td>1008</td>\n",
       "      <td>56.093254</td>\n",
       "      <td>18.044831</td>\n",
       "      <td>11</td>\n",
       "      <td>42</td>\n",
       "      <td>58</td>\n",
       "      <td>72.00</td>\n",
       "      <td>90.00</td>\n",
       "    </tr>\n",
       "    <tr>\n",
       "      <th>max_temperature</th>\n",
       "      <td>1008</td>\n",
       "      <td>63.052579</td>\n",
       "      <td>18.898837</td>\n",
       "      <td>18</td>\n",
       "      <td>47</td>\n",
       "      <td>65</td>\n",
       "      <td>80.00</td>\n",
       "      <td>98.00</td>\n",
       "    </tr>\n",
       "    <tr>\n",
       "      <th>min_temperature</th>\n",
       "      <td>1008</td>\n",
       "      <td>48.629960</td>\n",
       "      <td>17.503609</td>\n",
       "      <td>2</td>\n",
       "      <td>35</td>\n",
       "      <td>50</td>\n",
       "      <td>64.00</td>\n",
       "      <td>83.00</td>\n",
       "    </tr>\n",
       "    <tr>\n",
       "      <th>dew_point</th>\n",
       "      <td>1008</td>\n",
       "      <td>40.452381</td>\n",
       "      <td>19.303506</td>\n",
       "      <td>-12</td>\n",
       "      <td>26</td>\n",
       "      <td>43</td>\n",
       "      <td>56.00</td>\n",
       "      <td>73.00</td>\n",
       "    </tr>\n",
       "    <tr>\n",
       "      <th>average_humidity</th>\n",
       "      <td>1008</td>\n",
       "      <td>59.195437</td>\n",
       "      <td>13.629751</td>\n",
       "      <td>27</td>\n",
       "      <td>49</td>\n",
       "      <td>58</td>\n",
       "      <td>69.00</td>\n",
       "      <td>96.00</td>\n",
       "    </tr>\n",
       "    <tr>\n",
       "      <th>maximum_humidity</th>\n",
       "      <td>1008</td>\n",
       "      <td>75.399802</td>\n",
       "      <td>14.968550</td>\n",
       "      <td>39</td>\n",
       "      <td>64</td>\n",
       "      <td>76</td>\n",
       "      <td>89.00</td>\n",
       "      <td>100.00</td>\n",
       "    </tr>\n",
       "    <tr>\n",
       "      <th>minimum_humidity</th>\n",
       "      <td>1008</td>\n",
       "      <td>42.499008</td>\n",
       "      <td>14.828714</td>\n",
       "      <td>11</td>\n",
       "      <td>32</td>\n",
       "      <td>40</td>\n",
       "      <td>51.00</td>\n",
       "      <td>92.00</td>\n",
       "    </tr>\n",
       "    <tr>\n",
       "      <th>precipitation</th>\n",
       "      <td>1008</td>\n",
       "      <td>0.138919</td>\n",
       "      <td>0.388731</td>\n",
       "      <td>0</td>\n",
       "      <td>0</td>\n",
       "      <td>0</td>\n",
       "      <td>0.06</td>\n",
       "      <td>4.97</td>\n",
       "    </tr>\n",
       "    <tr>\n",
       "      <th>wind_speed</th>\n",
       "      <td>1008</td>\n",
       "      <td>5.489087</td>\n",
       "      <td>3.746151</td>\n",
       "      <td>1</td>\n",
       "      <td>4</td>\n",
       "      <td>5</td>\n",
       "      <td>7.00</td>\n",
       "      <td>99.00</td>\n",
       "    </tr>\n",
       "    <tr>\n",
       "      <th>max_wind_speed</th>\n",
       "      <td>1008</td>\n",
       "      <td>14.020833</td>\n",
       "      <td>4.582962</td>\n",
       "      <td>7</td>\n",
       "      <td>12</td>\n",
       "      <td>14</td>\n",
       "      <td>16.00</td>\n",
       "      <td>99.00</td>\n",
       "    </tr>\n",
       "    <tr>\n",
       "      <th>max_gust_speed</th>\n",
       "      <td>1008</td>\n",
       "      <td>22.403770</td>\n",
       "      <td>6.630005</td>\n",
       "      <td>10</td>\n",
       "      <td>18</td>\n",
       "      <td>22</td>\n",
       "      <td>26.00</td>\n",
       "      <td>99.00</td>\n",
       "    </tr>\n",
       "  </tbody>\n",
       "</table>\n",
       "</div>"
      ],
      "text/plain": [
       "                  count         mean        std   min   25%   50%      75%  \\\n",
       "month              1008     6.583333   3.420686     1     4     7    10.00   \n",
       "day                1008    15.585317   8.798791     1     8    15    23.00   \n",
       "year               1008  2014.009921   0.818056  2013  2013  2014  2015.00   \n",
       "mean_temperature   1008    56.093254  18.044831    11    42    58    72.00   \n",
       "max_temperature    1008    63.052579  18.898837    18    47    65    80.00   \n",
       "min_temperature    1008    48.629960  17.503609     2    35    50    64.00   \n",
       "dew_point          1008    40.452381  19.303506   -12    26    43    56.00   \n",
       "average_humidity   1008    59.195437  13.629751    27    49    58    69.00   \n",
       "maximum_humidity   1008    75.399802  14.968550    39    64    76    89.00   \n",
       "minimum_humidity   1008    42.499008  14.828714    11    32    40    51.00   \n",
       "precipitation      1008     0.138919   0.388731     0     0     0     0.06   \n",
       "wind_speed         1008     5.489087   3.746151     1     4     5     7.00   \n",
       "max_wind_speed     1008    14.020833   4.582962     7    12    14    16.00   \n",
       "max_gust_speed     1008    22.403770   6.630005    10    18    22    26.00   \n",
       "\n",
       "                      max  \n",
       "month               12.00  \n",
       "day                 31.00  \n",
       "year              2015.00  \n",
       "mean_temperature    90.00  \n",
       "max_temperature     98.00  \n",
       "min_temperature     83.00  \n",
       "dew_point           73.00  \n",
       "average_humidity    96.00  \n",
       "maximum_humidity   100.00  \n",
       "minimum_humidity    92.00  \n",
       "precipitation        4.97  \n",
       "wind_speed          99.00  \n",
       "max_wind_speed      99.00  \n",
       "max_gust_speed      99.00  "
      ]
     },
     "execution_count": 16,
     "metadata": {},
     "output_type": "execute_result"
    }
   ],
   "source": [
    "pd.options.display.max_rows = 999\n",
    "clean_data.describe().transpose()"
   ]
  },
  {
   "cell_type": "markdown",
   "metadata": {},
   "source": [
    "(The `transpose` function just turns any data frame sideways; here, it was done for readability.)\n",
    "\n",
    "The reason that `describe` is so cool is that we get summary statistics for every single column. Everything seems okay, so let's get started on plotting the data to see even more patterns.\n",
    "\n",
    "We'll be using the matplotlib and Seaborn packages within Python to plot data. Matplotlib is the standard plotting package in Python, but it's honestly kind of a pain to actually use. Seaborn is a nice wrapper for statistical plotting, with a much easier interface. It also makes really pretty pictures!\n",
    "\n",
    "To start, we'll need the following few lines:"
   ]
  },
  {
   "cell_type": "code",
   "execution_count": 42,
   "metadata": {
    "collapsed": false
   },
   "outputs": [],
   "source": [
    "%matplotlib inline\n",
    "import matplotlib.pyplot as plt\n",
    "import seaborn as sns\n",
    "import numpy as np"
   ]
  },
  {
   "cell_type": "markdown",
   "metadata": {},
   "source": [
    "The `%matplotlib inline` is a special Jupyter magic. It only works on Jupyter clients (like the notebook or the IPython shell). It essentially just tells matplotlib to embed its graphs in the html of the notebook, instead of popping up in a new window."
   ]
  },
  {
   "cell_type": "code",
   "execution_count": null,
   "metadata": {
    "collapsed": true
   },
   "outputs": [],
   "source": [
    "sns.distplot(clean_data.mean_temperature)"
   ]
  },
  {
   "cell_type": "markdown",
   "metadata": {},
   "source": [
    "This simple plot just visualizes the distribution of the average temperature across all the days we collected data for; specifically, it plots the histogram (the bars) and an estimate of the distribution (the line). We can also just plot the histogram."
   ]
  },
  {
   "cell_type": "code",
   "execution_count": null,
   "metadata": {
    "collapsed": true
   },
   "outputs": [],
   "source": [
    "sns.distplot(clean_data.mean_temperature, kde=False)"
   ]
  },
  {
   "cell_type": "markdown",
   "metadata": {},
   "source": [
    "Neat! Let's add a title and some axis labels."
   ]
  },
  {
   "cell_type": "code",
   "execution_count": null,
   "metadata": {
    "collapsed": true
   },
   "outputs": [],
   "source": [
    "sns.distplot(clean_data.mean_temperature, kde=False)\n",
    "sns.plt.title('Daily Average Temperature (2013 - 2015)')\n",
    "sns.plt.xlabel('Temperature')\n",
    "sns.plt.ylabel('Frequency')"
   ]
  },
  {
   "cell_type": "markdown",
   "metadata": {},
   "source": [
    "That looks like a pretty fancy graph. Let's zoom in on a portion by setting the limits of the plot; we'll also change the bin size accordingly since we're looking at a portion of the plot."
   ]
  },
  {
   "cell_type": "code",
   "execution_count": null,
   "metadata": {
    "collapsed": true
   },
   "outputs": [],
   "source": [
    "sns.distplot(clean_data.mean_temperature, kde=False, bins=40)\n",
    "sns.plt.title('Zoomed In - Daily Average Temperature (2013 - 2015)')\n",
    "sns.plt.xlabel('Temperature')\n",
    "sns.plt.ylabel('Frequency')\n",
    "sns.plt.xlim((30, 60))\n",
    "sns.plt.ylim((0, 50))"
   ]
  },
  {
   "cell_type": "markdown",
   "metadata": {},
   "source": [
    "These same functions that we've been using to edit the graph can be used more generally, but let's move on to move interesting graphs. Namely, let's try plotting the histograms of the average and maximum temperature on the same graph."
   ]
  },
  {
   "cell_type": "code",
   "execution_count": null,
   "metadata": {
    "collapsed": true
   },
   "outputs": [],
   "source": [
    "sns.distplot(clean_data.mean_temperature, kde=False)\n",
    "sns.distplot(clean_data.max_temperature, kde=False)\n",
    "sns.plt.title('Daily Average and Max Temperature (2013 - 2015)')\n",
    "sns.plt.xlabel('Temperature')\n",
    "sns.plt.ylabel('Frequency')"
   ]
  },
  {
   "cell_type": "markdown",
   "metadata": {},
   "source": [
    "Whoa, cool plot alert! Let's add a legend to make sure someone looking at the plot knows which histogram is which."
   ]
  },
  {
   "cell_type": "code",
   "execution_count": null,
   "metadata": {
    "collapsed": true
   },
   "outputs": [],
   "source": [
    "sns.distplot(clean_data.mean_temperature, kde=False, label=\"Average Temperature\")\n",
    "sns.distplot(clean_data.max_temperature, kde=False, label=\"Max Temperature\")\n",
    "sns.plt.title('Daily Average and Max Temperature (2013 - 2015)')\n",
    "sns.plt.xlabel('Temperature')\n",
    "sns.plt.ylabel('Frequency')\n",
    "sns.plt.legend()"
   ]
  },
  {
   "cell_type": "markdown",
   "metadata": {},
   "source": [
    "We're getting pretty good at this. Let's try plotting a scatterplot to see the relationship between temperature and precipitation."
   ]
  },
  {
   "cell_type": "code",
   "execution_count": null,
   "metadata": {
    "collapsed": true
   },
   "outputs": [],
   "source": [
    "sns.plt.scatter(clean_data.mean_temperature, clean_data.precipitation)\n",
    "sns.plt.title('Temperature vs Precipitation')\n",
    "sns.plt.xlabel('Temperature')\n",
    "sns.plt.ylabel('Precipitation')"
   ]
  },
  {
   "cell_type": "markdown",
   "metadata": {},
   "source": [
    "This plot can help us think about the next step of modeling the data; it doesn't seem like temperature by itself will do a great job of predicting the amount of precipitation since there's a range of possible precipitation values for each temperature.\n",
    "\n",
    "It'd be a hassle to do a scatterplot for every possible variable, but luckily, we can use the built in `pairplot` function. (We're only taking a few columns of the `clean_data` data frame though to keep things managable.)"
   ]
  },
  {
   "cell_type": "code",
   "execution_count": null,
   "metadata": {
    "collapsed": true
   },
   "outputs": [],
   "source": [
    "sns.pairplot(clean_data, vars=[\"mean_temperature\", \"precipitation\", \"dew_point\", \"wind_speed\"])"
   ]
  },
  {
   "cell_type": "markdown",
   "metadata": {},
   "source": [
    "In this level, we looked at how to explore our data to make sure nothing's wrong with it and to start thinking about how to model precipitation. Once you're ready, we'll see you on the next level to start modeling the data."
   ]
  }
 ],
 "metadata": {
  "kernelspec": {
   "display_name": "Python 3",
   "language": "python",
   "name": "python3"
  },
  "language_info": {
   "codemirror_mode": {
    "name": "ipython",
    "version": 3
   },
   "file_extension": ".py",
   "mimetype": "text/x-python",
   "name": "python",
   "nbconvert_exporter": "python",
   "pygments_lexer": "ipython3",
   "version": "3.5.0"
  }
 },
 "nbformat": 4,
 "nbformat_minor": 0
}
